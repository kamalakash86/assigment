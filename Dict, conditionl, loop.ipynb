{
 "cells": [
  {
   "cell_type": "code",
   "execution_count": 1,
   "id": "7e8168bb-cb1d-420f-8c2a-f332ae054b1e",
   "metadata": {},
   "outputs": [],
   "source": [
    "d={}"
   ]
  },
  {
   "cell_type": "code",
   "execution_count": 2,
   "id": "566271c5-322d-4adb-ac13-3e9d96036b11",
   "metadata": {},
   "outputs": [
    {
     "data": {
      "text/plain": [
       "dict"
      ]
     },
     "execution_count": 2,
     "metadata": {},
     "output_type": "execute_result"
    }
   ],
   "source": [
    "type(d)"
   ]
  },
  {
   "cell_type": "code",
   "execution_count": 3,
   "id": "e5f5825e-e8e9-47be-a48e-07b68c1b77c5",
   "metadata": {},
   "outputs": [],
   "source": [
    "d1={'key':\"kamal\"}"
   ]
  },
  {
   "cell_type": "code",
   "execution_count": 4,
   "id": "692ede10-da61-47ca-945a-5c0b182e84b1",
   "metadata": {},
   "outputs": [
    {
     "data": {
      "text/plain": [
       "{'key': 'kamal'}"
      ]
     },
     "execution_count": 4,
     "metadata": {},
     "output_type": "execute_result"
    }
   ],
   "source": [
    "d1"
   ]
  },
  {
   "cell_type": "code",
   "execution_count": 5,
   "id": "ed561b4c-9df4-4764-a563-18cc1d31287e",
   "metadata": {},
   "outputs": [],
   "source": [
    "d2={'name':\"kamal\", 'email':\"kk@gmail.com\"}"
   ]
  },
  {
   "cell_type": "code",
   "execution_count": 6,
   "id": "3bddc99b-7e53-4ae2-95bc-5ddea3d2ddd6",
   "metadata": {},
   "outputs": [
    {
     "data": {
      "text/plain": [
       "{'name': 'kamal', 'email': 'kk@gmail.com'}"
      ]
     },
     "execution_count": 6,
     "metadata": {},
     "output_type": "execute_result"
    }
   ],
   "source": [
    "d2"
   ]
  },
  {
   "cell_type": "code",
   "execution_count": 10,
   "id": "a5084d63-741c-489f-baca-d9f3a1f7c7f9",
   "metadata": {},
   "outputs": [],
   "source": [
    "d3={234:\"kamal\",'@wer':\"kumar\",True:143332}"
   ]
  },
  {
   "cell_type": "code",
   "execution_count": 11,
   "id": "39ae8a50-0295-4db9-bf1a-663c873e8673",
   "metadata": {},
   "outputs": [
    {
     "data": {
      "text/plain": [
       "{234: 'kamal', '@wer': 'kumar', True: 143332}"
      ]
     },
     "execution_count": 11,
     "metadata": {},
     "output_type": "execute_result"
    }
   ],
   "source": [
    "d3"
   ]
  },
  {
   "cell_type": "code",
   "execution_count": 13,
   "id": "252a0f04-a867-4fc4-814f-2e8e2bc90223",
   "metadata": {},
   "outputs": [
    {
     "data": {
      "text/plain": [
       "'kamal'"
      ]
     },
     "execution_count": 13,
     "metadata": {},
     "output_type": "execute_result"
    }
   ],
   "source": [
    "d3[234]"
   ]
  },
  {
   "cell_type": "code",
   "execution_count": 14,
   "id": "d0f0cee6-e8e0-43a7-958a-ce54c90476c5",
   "metadata": {},
   "outputs": [
    {
     "data": {
      "text/plain": [
       "143332"
      ]
     },
     "execution_count": 14,
     "metadata": {},
     "output_type": "execute_result"
    }
   ],
   "source": [
    "d3[True]"
   ]
  },
  {
   "cell_type": "code",
   "execution_count": 15,
   "id": "afeeb7d5-68f8-4082-88bf-1b3c31056551",
   "metadata": {},
   "outputs": [
    {
     "data": {
      "text/plain": [
       "143332"
      ]
     },
     "execution_count": 15,
     "metadata": {},
     "output_type": "execute_result"
    }
   ],
   "source": [
    "d3[1]"
   ]
  },
  {
   "cell_type": "code",
   "execution_count": 18,
   "id": "700f3f7a-9fd2-40a8-933c-da4ad3abaa4b",
   "metadata": {},
   "outputs": [],
   "source": [
    "d4={'name':\"kamal\",'mail':\"kk@gmail.com\",\"name\":\"akash\"}"
   ]
  },
  {
   "cell_type": "code",
   "execution_count": 19,
   "id": "c9ea3727-8877-4973-b2d3-e7fb9da7f5d4",
   "metadata": {},
   "outputs": [
    {
     "data": {
      "text/plain": [
       "'akash'"
      ]
     },
     "execution_count": 19,
     "metadata": {},
     "output_type": "execute_result"
    }
   ],
   "source": [
    "d4['name']"
   ]
  },
  {
   "cell_type": "code",
   "execution_count": 20,
   "id": "a3387c6d-e435-4751-980b-b813a8717b03",
   "metadata": {},
   "outputs": [],
   "source": [
    "d5={\"company\":\"pwskills\",\"courese\":[\"web dev\",\"data scince\", \"java with dsa system design\"]}"
   ]
  },
  {
   "cell_type": "code",
   "execution_count": 21,
   "id": "ff935bab-3721-405f-9f6a-39c921e80e72",
   "metadata": {},
   "outputs": [
    {
     "data": {
      "text/plain": [
       "{'company': 'pwskills',\n",
       " 'courese': ['web dev', 'data scince', 'java with dsa system design']}"
      ]
     },
     "execution_count": 21,
     "metadata": {},
     "output_type": "execute_result"
    }
   ],
   "source": [
    "d5"
   ]
  },
  {
   "cell_type": "code",
   "execution_count": 23,
   "id": "820b77aa-b413-4abc-99c5-6735f3459165",
   "metadata": {},
   "outputs": [
    {
     "data": {
      "text/plain": [
       "['web dev', 'data scince', 'java with dsa system design']"
      ]
     },
     "execution_count": 23,
     "metadata": {},
     "output_type": "execute_result"
    }
   ],
   "source": [
    "d5['courese']"
   ]
  },
  {
   "cell_type": "code",
   "execution_count": 24,
   "id": "b8eaeb76-6152-4264-9064-c848e2c9ce86",
   "metadata": {},
   "outputs": [
    {
     "data": {
      "text/plain": [
       "'java with dsa system design'"
      ]
     },
     "execution_count": 24,
     "metadata": {},
     "output_type": "execute_result"
    }
   ],
   "source": [
    "d5['courese'][2]"
   ]
  },
  {
   "cell_type": "code",
   "execution_count": 35,
   "id": "124181b0-1b8d-43ea-b8a3-3a7003fa02ee",
   "metadata": {},
   "outputs": [],
   "source": [
    "d6={\"number\":[2,34,3,45,34],\"assigment\":(1,2,3,4,5,6,7),\"launch_date\":{28,12,14},\"class_time\":{\"web_dev\":8,\"Data scince master\":8,\"java with dsa and sysytem desig\":7}}"
   ]
  },
  {
   "cell_type": "code",
   "execution_count": 36,
   "id": "be056b57-81ee-45f4-a97b-127bf66ec335",
   "metadata": {},
   "outputs": [
    {
     "data": {
      "text/plain": [
       "{'number': [2, 34, 3, 45, 34],\n",
       " 'assigment': (1, 2, 3, 4, 5, 6, 7),\n",
       " 'launch_date': {12, 14, 28},\n",
       " 'class_time': {'web_dev': 8,\n",
       "  'Data scince master': 8,\n",
       "  'java with dsa and sysytem desig': 7}}"
      ]
     },
     "execution_count": 36,
     "metadata": {},
     "output_type": "execute_result"
    }
   ],
   "source": [
    "d6"
   ]
  },
  {
   "cell_type": "code",
   "execution_count": 38,
   "id": "4d056835-003d-4956-a26b-c6f332bc6934",
   "metadata": {},
   "outputs": [
    {
     "data": {
      "text/plain": [
       "7"
      ]
     },
     "execution_count": 38,
     "metadata": {},
     "output_type": "execute_result"
    }
   ],
   "source": [
    "d6['class_time']['java with dsa and sysytem desig']"
   ]
  },
  {
   "cell_type": "code",
   "execution_count": 39,
   "id": "9df57780-06b9-4dca-ae50-60ce15ac4e10",
   "metadata": {},
   "outputs": [
    {
     "data": {
      "text/plain": [
       "{'number': [2, 34, 3, 45, 34],\n",
       " 'assigment': (1, 2, 3, 4, 5, 6, 7),\n",
       " 'launch_date': {12, 14, 28},\n",
       " 'class_time': {'web_dev': 8,\n",
       "  'Data scince master': 8,\n",
       "  'java with dsa and sysytem desig': 7}}"
      ]
     },
     "execution_count": 39,
     "metadata": {},
     "output_type": "execute_result"
    }
   ],
   "source": [
    "d6"
   ]
  },
  {
   "cell_type": "code",
   "execution_count": 41,
   "id": "1b29794d-757b-48e5-87f0-3c6bfc300cab",
   "metadata": {},
   "outputs": [],
   "source": [
    "d6['mentor']=[\"kamal\", \"rahul\", \"chandan\", \"akash\"]"
   ]
  },
  {
   "cell_type": "code",
   "execution_count": 42,
   "id": "b8f308b3-dc8f-44ae-86df-8aa01ec549c7",
   "metadata": {},
   "outputs": [
    {
     "data": {
      "text/plain": [
       "{'number': [2, 34, 3, 45, 34],\n",
       " 'assigment': (1, 2, 3, 4, 5, 6, 7),\n",
       " 'launch_date': {12, 14, 28},\n",
       " 'class_time': {'web_dev': 8,\n",
       "  'Data scince master': 8,\n",
       "  'java with dsa and sysytem desig': 7},\n",
       " 'mentor': ['kamal', 'rahul', 'chandan', 'akash']}"
      ]
     },
     "execution_count": 42,
     "metadata": {},
     "output_type": "execute_result"
    }
   ],
   "source": [
    "d6"
   ]
  },
  {
   "cell_type": "code",
   "execution_count": 43,
   "id": "212f882a-a2dd-4782-9542-9e1ef8608074",
   "metadata": {},
   "outputs": [],
   "source": [
    "del d6['number']"
   ]
  },
  {
   "cell_type": "code",
   "execution_count": 44,
   "id": "3808cc91-62fa-4a18-8097-b6ab846c0660",
   "metadata": {},
   "outputs": [
    {
     "data": {
      "text/plain": [
       "{'assigment': (1, 2, 3, 4, 5, 6, 7),\n",
       " 'launch_date': {12, 14, 28},\n",
       " 'class_time': {'web_dev': 8,\n",
       "  'Data scince master': 8,\n",
       "  'java with dsa and sysytem desig': 7},\n",
       " 'mentor': ['kamal', 'rahul', 'chandan', 'akash']}"
      ]
     },
     "execution_count": 44,
     "metadata": {},
     "output_type": "execute_result"
    }
   ],
   "source": [
    "d6"
   ]
  },
  {
   "cell_type": "code",
   "execution_count": 46,
   "id": "9dabd9f8-0e75-4585-95af-0b8ff3e7958e",
   "metadata": {},
   "outputs": [
    {
     "data": {
      "text/plain": [
       "['assigment', 'launch_date', 'class_time', 'mentor']"
      ]
     },
     "execution_count": 46,
     "metadata": {},
     "output_type": "execute_result"
    }
   ],
   "source": [
    "list(d6.keys())"
   ]
  },
  {
   "cell_type": "code",
   "execution_count": 47,
   "id": "1297d429-7210-4b5a-9517-0b671cc2c9da",
   "metadata": {},
   "outputs": [
    {
     "data": {
      "text/plain": [
       "dict_values([(1, 2, 3, 4, 5, 6, 7), {28, 12, 14}, {'web_dev': 8, 'Data scince master': 8, 'java with dsa and sysytem desig': 7}, ['kamal', 'rahul', 'chandan', 'akash']])"
      ]
     },
     "execution_count": 47,
     "metadata": {},
     "output_type": "execute_result"
    }
   ],
   "source": [
    "d6.values()"
   ]
  },
  {
   "cell_type": "code",
   "execution_count": 49,
   "id": "0dbbd814-9c31-45e0-86a8-73637beaf7e3",
   "metadata": {},
   "outputs": [
    {
     "data": {
      "text/plain": [
       "[('assigment', (1, 2, 3, 4, 5, 6, 7)),\n",
       " ('launch_date', {12, 14, 28}),\n",
       " ('class_time',\n",
       "  {'web_dev': 8,\n",
       "   'Data scince master': 8,\n",
       "   'java with dsa and sysytem desig': 7}),\n",
       " ('mentor', ['kamal', 'rahul', 'chandan', 'akash'])]"
      ]
     },
     "execution_count": 49,
     "metadata": {},
     "output_type": "execute_result"
    }
   ],
   "source": [
    "list(d6.items())"
   ]
  },
  {
   "cell_type": "code",
   "execution_count": 51,
   "id": "119d3010-bfda-46bf-adcb-8e64f9be5101",
   "metadata": {},
   "outputs": [
    {
     "data": {
      "text/plain": [
       "(1, 2, 3, 4, 5, 6, 7)"
      ]
     },
     "execution_count": 51,
     "metadata": {},
     "output_type": "execute_result"
    }
   ],
   "source": [
    "d6.pop('assigment')"
   ]
  },
  {
   "cell_type": "code",
   "execution_count": 52,
   "id": "db18b153-b299-4002-878f-902a50210fc0",
   "metadata": {},
   "outputs": [
    {
     "data": {
      "text/plain": [
       "{'launch_date': {12, 14, 28},\n",
       " 'class_time': {'web_dev': 8,\n",
       "  'Data scince master': 8,\n",
       "  'java with dsa and sysytem desig': 7},\n",
       " 'mentor': ['kamal', 'rahul', 'chandan', 'akash']}"
      ]
     },
     "execution_count": 52,
     "metadata": {},
     "output_type": "execute_result"
    }
   ],
   "source": [
    "d6"
   ]
  },
  {
   "cell_type": "code",
   "execution_count": 65,
   "id": "9bc24f89-6b70-4110-8942-6a69c5b45ca9",
   "metadata": {},
   "outputs": [
    {
     "name": "stdin",
     "output_type": "stream",
     "text": [
      "enter your marks 90\n"
     ]
    },
    {
     "name": "stdout",
     "output_type": "stream",
     "text": [
      "you will be a part of A0 batch\n"
     ]
    }
   ],
   "source": [
    "marks = int(input(\"enter your marks\"))\n",
    "if marks >= 80:\n",
    "    print(\"you will be a part of A0 batch\")\n",
    "elif marks >= 60 and marks< 80:\n",
    "    print(\"you will be part of A1 batch\")\n",
    "elif marks >= 40 and marks <60:\n",
    "    print(\"you will be a part of A2 batch\")\n",
    "else :\n",
    "    print(\"you will be a part of A3 batch\")"
   ]
  },
  {
   "cell_type": "code",
   "execution_count": 60,
   "id": "93c9fd57-4c08-411a-855c-9119f190a81f",
   "metadata": {},
   "outputs": [
    {
     "data": {
      "text/plain": [
       "False"
      ]
     },
     "execution_count": 60,
     "metadata": {},
     "output_type": "execute_result"
    }
   ],
   "source": [
    "10>=80"
   ]
  },
  {
   "cell_type": "code",
   "execution_count": 66,
   "id": "7a0c4b3a-6bab-4d98-9b15-78258bfa10a3",
   "metadata": {},
   "outputs": [
    {
     "name": "stdin",
     "output_type": "stream",
     "text": [
      "entr price 500\n"
     ]
    },
    {
     "name": "stdout",
     "output_type": "stream",
     "text": [
      "i will purchase\n"
     ]
    }
   ],
   "source": [
    "price = int(input(\"entr price\"))\n",
    "if price > 1000:\n",
    "    print(\"i will not purchase\")\n",
    "else :\n",
    "    print(\"i will purchase\")"
   ]
  },
  {
   "cell_type": "code",
   "execution_count": 1,
   "id": "fd9e4e3a-82df-4d8d-baf9-5ffcdbeea615",
   "metadata": {},
   "outputs": [
    {
     "name": "stdin",
     "output_type": "stream",
     "text": [
      "entr price 1800\n"
     ]
    },
    {
     "name": "stdout",
     "output_type": "stream",
     "text": [
      "i will not purchase\n",
      "its ok\n"
     ]
    }
   ],
   "source": [
    "price = int(input(\"entr price\"))\n",
    "if price > 1000:\n",
    "    print(\"i will not purchase\")\n",
    "    if price > 5000:\n",
    "        print(\"this is too much\")\n",
    "    elif price < 2000 :\n",
    "        print(\"its ok\")\n",
    "elif price < 1000 :\n",
    "    print(\"i will purchase\")\n",
    "    print(\"i will not purchase\")\n",
    "    if price > 5000:\n",
    "        print(\"this is too much\")\n",
    "    elif price < 2000 :\n",
    "        print(\"its ok\")\n",
    "else :\n",
    "    print(\"not interested\")\n",
    "    print(\"i will not purchase\")\n",
    "    if price > 5000:\n",
    "        print(\"this is too much\")\n",
    "    elif price < 2000 :\n",
    "        print(\"its ok\")"
   ]
  },
  {
   "cell_type": "code",
   "execution_count": 2,
   "id": "481bf32c-2158-4401-bbda-93f6b02f5d34",
   "metadata": {},
   "outputs": [],
   "source": [
    "l = [1,2,3,4,5,6,7,8,9,0]"
   ]
  },
  {
   "cell_type": "code",
   "execution_count": 5,
   "id": "73deb3c3-c5f5-4a0b-becc-83c0f5a35c9d",
   "metadata": {},
   "outputs": [
    {
     "data": {
      "text/plain": [
       "2"
      ]
     },
     "execution_count": 5,
     "metadata": {},
     "output_type": "execute_result"
    }
   ],
   "source": [
    "l[0]+1"
   ]
  },
  {
   "cell_type": "code",
   "execution_count": 7,
   "id": "66652f5f-cac6-4d8b-83b3-c539e0c2c72e",
   "metadata": {},
   "outputs": [],
   "source": [
    "l1 = []"
   ]
  },
  {
   "cell_type": "code",
   "execution_count": 8,
   "id": "33f1670d-3110-41c9-b5e1-a15e12912b5d",
   "metadata": {},
   "outputs": [],
   "source": [
    "l1.append(l[0]+1)"
   ]
  },
  {
   "cell_type": "code",
   "execution_count": 9,
   "id": "1be97e7c-ddfe-4ea8-ad53-5b5f9663705d",
   "metadata": {},
   "outputs": [
    {
     "data": {
      "text/plain": [
       "[2]"
      ]
     },
     "execution_count": 9,
     "metadata": {},
     "output_type": "execute_result"
    }
   ],
   "source": [
    "l1"
   ]
  },
  {
   "cell_type": "code",
   "execution_count": 15,
   "id": "7b08ff4a-9880-4051-8532-95ba75dc595d",
   "metadata": {},
   "outputs": [
    {
     "name": "stdout",
     "output_type": "stream",
     "text": [
      "2\n",
      "3\n",
      "4\n",
      "5\n",
      "6\n",
      "7\n",
      "8\n",
      "9\n",
      "10\n",
      "1\n"
     ]
    },
    {
     "data": {
      "text/plain": [
       "[2, 3, 4, 5, 6, 7, 8, 9, 10, 1]"
      ]
     },
     "execution_count": 15,
     "metadata": {},
     "output_type": "execute_result"
    }
   ],
   "source": [
    "l1 = []\n",
    "for i in l :\n",
    "    print(i+1)\n",
    "    l1.append(i+1)\n",
    "l1"
   ]
  },
  {
   "cell_type": "code",
   "execution_count": 16,
   "id": "bbe18880-d781-4002-833b-e3d1d19ea8f2",
   "metadata": {},
   "outputs": [
    {
     "data": {
      "text/plain": [
       "[1, 2, 3, 4, 5, 6, 7, 8, 9, 0]"
      ]
     },
     "execution_count": 16,
     "metadata": {},
     "output_type": "execute_result"
    }
   ],
   "source": [
    "l"
   ]
  },
  {
   "cell_type": "code",
   "execution_count": 17,
   "id": "c39a5b4e-388e-40af-9426-b3ef011d9b14",
   "metadata": {},
   "outputs": [],
   "source": [
    "l = [\"kamal\", \"kumar\", \"pwskills\", \"course\"]"
   ]
  },
  {
   "cell_type": "code",
   "execution_count": 20,
   "id": "1099aaf8-ed39-416f-bf1b-addf4f17b4c5",
   "metadata": {},
   "outputs": [
    {
     "name": "stdout",
     "output_type": "stream",
     "text": [
      "kamal\n",
      "kumar\n",
      "pwskills\n",
      "course\n"
     ]
    }
   ],
   "source": [
    "l1 = []\n",
    "for i in l :\n",
    "    print(i)\n",
    "    l1.append(i.upper())"
   ]
  },
  {
   "cell_type": "code",
   "execution_count": 21,
   "id": "d372f0d9-b1b5-4f41-94dc-963391084684",
   "metadata": {},
   "outputs": [
    {
     "data": {
      "text/plain": [
       "['KAMAL', 'KUMAR', 'PWSKILLS', 'COURSE']"
      ]
     },
     "execution_count": 21,
     "metadata": {},
     "output_type": "execute_result"
    }
   ],
   "source": [
    "l1"
   ]
  },
  {
   "cell_type": "code",
   "execution_count": 24,
   "id": "f00bc2c1-c858-4ab6-a5df-5268213e19cd",
   "metadata": {},
   "outputs": [],
   "source": [
    "l = [1,2,3,4,5,6,\"kamal\", \"kumar\",324.44,234,\"abc\"]"
   ]
  },
  {
   "cell_type": "code",
   "execution_count": 25,
   "id": "57fd4977-9552-4408-bd50-8a52f7acb1a7",
   "metadata": {},
   "outputs": [
    {
     "data": {
      "text/plain": [
       "[1, 2, 3, 4, 5, 6, 'kamal', 'kumar', 324.44, 234, 'abc']"
      ]
     },
     "execution_count": 25,
     "metadata": {},
     "output_type": "execute_result"
    }
   ],
   "source": [
    "l"
   ]
  },
  {
   "cell_type": "code",
   "execution_count": 26,
   "id": "dcf38da9-490d-4ea0-91d0-96964d886d41",
   "metadata": {},
   "outputs": [],
   "source": [
    "l1_num=[]\n",
    "l2_str=[]\n",
    "for i in l :\n",
    "    if type(i) == int or type (i) == float :\n",
    "        l1_num.append(i)\n",
    "    else :\n",
    "        l2_str.append(i)\n",
    "    "
   ]
  },
  {
   "cell_type": "code",
   "execution_count": 27,
   "id": "f52c4288-6bf5-4020-8376-bc7d0c9c5a27",
   "metadata": {},
   "outputs": [
    {
     "data": {
      "text/plain": [
       "[1, 2, 3, 4, 5, 6, 324.44, 234]"
      ]
     },
     "execution_count": 27,
     "metadata": {},
     "output_type": "execute_result"
    }
   ],
   "source": [
    "l1_num"
   ]
  },
  {
   "cell_type": "code",
   "execution_count": 28,
   "id": "d9bf1658-ba51-4f53-9caa-8e076b2cacd5",
   "metadata": {},
   "outputs": [
    {
     "data": {
      "text/plain": [
       "['kamal', 'kumar', 'abc']"
      ]
     },
     "execution_count": 28,
     "metadata": {},
     "output_type": "execute_result"
    }
   ],
   "source": [
    "l2_str"
   ]
  },
  {
   "cell_type": "code",
   "execution_count": null,
   "id": "2720ed2b-4f68-4939-8a47-5f6489ca7725",
   "metadata": {},
   "outputs": [],
   "source": [
    "100+sample"
   ]
  }
 ],
 "metadata": {
  "kernelspec": {
   "display_name": "Python 3 (ipykernel)",
   "language": "python",
   "name": "python3"
  },
  "language_info": {
   "codemirror_mode": {
    "name": "ipython",
    "version": 3
   },
   "file_extension": ".py",
   "mimetype": "text/x-python",
   "name": "python",
   "nbconvert_exporter": "python",
   "pygments_lexer": "ipython3",
   "version": "3.10.8"
  }
 },
 "nbformat": 4,
 "nbformat_minor": 5
}
